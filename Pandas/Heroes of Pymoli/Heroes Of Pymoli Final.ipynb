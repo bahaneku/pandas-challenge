{
 "cells": [
  {
   "cell_type": "markdown",
   "metadata": {},
   "source": [
    "### Note\n",
    "* Instructions have been included for each segment. You do not have to follow them exactly, but they are included to help you think through the steps."
   ]
  },
  {
   "cell_type": "code",
   "execution_count": 1,
   "metadata": {},
   "outputs": [],
   "source": [
    "# Dependencies and Setup\n",
    "import pandas as pd\n",
    "import numpy as np\n",
    "%matplotlib inline\n",
    "%matplotlib notebook\n",
    "\n",
    "# File to Load (Remember to Change These)\n",
    "file = \"Resources/purchase_data.csv\"\n",
    "\n",
    "# Read Purchasing File and store into Pandas data frame\n",
    "purchase_data_df = pd.read_csv(file)"
   ]
  },
  {
   "cell_type": "markdown",
   "metadata": {},
   "source": [
    "## Player Count"
   ]
  },
  {
   "cell_type": "markdown",
   "metadata": {},
   "source": [
    "* Display the total number of players\n"
   ]
  },
  {
   "cell_type": "code",
   "execution_count": 2,
   "metadata": {
    "scrolled": true
   },
   "outputs": [
    {
     "data": {
      "text/html": [
       "<div>\n",
       "<style scoped>\n",
       "    .dataframe tbody tr th:only-of-type {\n",
       "        vertical-align: middle;\n",
       "    }\n",
       "\n",
       "    .dataframe tbody tr th {\n",
       "        vertical-align: top;\n",
       "    }\n",
       "\n",
       "    .dataframe thead th {\n",
       "        text-align: right;\n",
       "    }\n",
       "</style>\n",
       "<table border=\"1\" class=\"dataframe\">\n",
       "  <thead>\n",
       "    <tr style=\"text-align: right;\">\n",
       "      <th></th>\n",
       "      <th>Total Players</th>\n",
       "    </tr>\n",
       "  </thead>\n",
       "  <tbody>\n",
       "    <tr>\n",
       "      <th>0</th>\n",
       "      <td>576</td>\n",
       "    </tr>\n",
       "  </tbody>\n",
       "</table>\n",
       "</div>"
      ],
      "text/plain": [
       "   Total Players\n",
       "0            576"
      ]
     },
     "execution_count": 2,
     "metadata": {},
     "output_type": "execute_result"
    }
   ],
   "source": [
    "# Calculate the total number of players and add column to data frame\n",
    "total_players = len(purchase_data_df[\"SN\"].value_counts())\n",
    "\n",
    "player_count = pd.DataFrame({\"Total Players\": [total_players]})\n",
    "player_count"
   ]
  },
  {
   "cell_type": "markdown",
   "metadata": {},
   "source": [
    "## Purchasing Analysis (Total)"
   ]
  },
  {
   "cell_type": "markdown",
   "metadata": {},
   "source": [
    "* Run basic calculations to obtain number of unique items, average price, etc.\n",
    "\n",
    "\n",
    "* Create a summary data frame to hold the results\n",
    "\n",
    "\n",
    "* Optional: give the displayed data cleaner formatting\n",
    "\n",
    "\n",
    "* Display the summary data frame\n"
   ]
  },
  {
   "cell_type": "code",
   "execution_count": 3,
   "metadata": {},
   "outputs": [
    {
     "data": {
      "text/html": [
       "<style  type=\"text/css\" >\n",
       "</style><table id=\"T_bebbc6d2_c7e6_11ea_912b_dc7196bf12d2\" ><thead>    <tr>        <th class=\"blank level0\" ></th>        <th class=\"col_heading level0 col0\" >Number of Unique Items</th>        <th class=\"col_heading level0 col1\" >Average Price</th>        <th class=\"col_heading level0 col2\" >Number of Purchases</th>        <th class=\"col_heading level0 col3\" >Total Revenue</th>    </tr></thead><tbody>\n",
       "                <tr>\n",
       "                        <th id=\"T_bebbc6d2_c7e6_11ea_912b_dc7196bf12d2level0_row0\" class=\"row_heading level0 row0\" >0</th>\n",
       "                        <td id=\"T_bebbc6d2_c7e6_11ea_912b_dc7196bf12d2row0_col0\" class=\"data row0 col0\" >179</td>\n",
       "                        <td id=\"T_bebbc6d2_c7e6_11ea_912b_dc7196bf12d2row0_col1\" class=\"data row0 col1\" >$3.05</td>\n",
       "                        <td id=\"T_bebbc6d2_c7e6_11ea_912b_dc7196bf12d2row0_col2\" class=\"data row0 col2\" >780</td>\n",
       "                        <td id=\"T_bebbc6d2_c7e6_11ea_912b_dc7196bf12d2row0_col3\" class=\"data row0 col3\" >$2,379.77</td>\n",
       "            </tr>\n",
       "    </tbody></table>"
      ],
      "text/plain": [
       "<pandas.io.formats.style.Styler at 0x1cd4f2e1648>"
      ]
     },
     "execution_count": 3,
     "metadata": {},
     "output_type": "execute_result"
    }
   ],
   "source": [
    "# Calculate Purchasing Analysis Totals (Number of Unique Items, Average Price, Number of Purchases, Total Revenue)\n",
    "unique = len(purchase_data_df[\"Item Name\"].unique())\n",
    "average = purchase_data_df[\"Price\"].mean()\n",
    "amount = purchase_data_df[\"Purchase ID\"].count()\n",
    "revenue = purchase_data_df[\"Price\"].sum()\n",
    "\n",
    "# Create a summary data frame and format it\n",
    "summary_df = pd.DataFrame({\"Number of Unique Items\": [unique],\n",
    "                           \"Average Price\": [average],\n",
    "                           \"Number of Purchases\": [amount],\n",
    "                           \"Total Revenue\": [revenue]})\n",
    "\n",
    "summary_df.style.format({'Average Price':\"${:,.2f}\",\n",
    "                         'Total Revenue': '${:,.2f}'})"
   ]
  },
  {
   "cell_type": "markdown",
   "metadata": {},
   "source": [
    "## Gender Demographics"
   ]
  },
  {
   "cell_type": "markdown",
   "metadata": {},
   "source": [
    "* Percentage and Count of Male Players\n",
    "\n",
    "\n",
    "* Percentage and Count of Female Players\n",
    "\n",
    "\n",
    "* Percentage and Count of Other / Non-Disclosed\n",
    "\n",
    "\n"
   ]
  },
  {
   "cell_type": "code",
   "execution_count": 4,
   "metadata": {},
   "outputs": [
    {
     "data": {
      "text/html": [
       "<style  type=\"text/css\" >\n",
       "</style><table id=\"T_bebfbd0c_c7e6_11ea_ac6f_dc7196bf12d2\" ><thead>    <tr>        <th class=\"blank level0\" ></th>        <th class=\"col_heading level0 col0\" >Total Count</th>        <th class=\"col_heading level0 col1\" >Percentage of Players</th>    </tr></thead><tbody>\n",
       "                <tr>\n",
       "                        <th id=\"T_bebfbd0c_c7e6_11ea_ac6f_dc7196bf12d2level0_row0\" class=\"row_heading level0 row0\" >Male</th>\n",
       "                        <td id=\"T_bebfbd0c_c7e6_11ea_ac6f_dc7196bf12d2row0_col0\" class=\"data row0 col0\" >484</td>\n",
       "                        <td id=\"T_bebfbd0c_c7e6_11ea_ac6f_dc7196bf12d2row0_col1\" class=\"data row0 col1\" >84.03%</td>\n",
       "            </tr>\n",
       "            <tr>\n",
       "                        <th id=\"T_bebfbd0c_c7e6_11ea_ac6f_dc7196bf12d2level0_row1\" class=\"row_heading level0 row1\" >Female</th>\n",
       "                        <td id=\"T_bebfbd0c_c7e6_11ea_ac6f_dc7196bf12d2row1_col0\" class=\"data row1 col0\" >81</td>\n",
       "                        <td id=\"T_bebfbd0c_c7e6_11ea_ac6f_dc7196bf12d2row1_col1\" class=\"data row1 col1\" >14.06%</td>\n",
       "            </tr>\n",
       "            <tr>\n",
       "                        <th id=\"T_bebfbd0c_c7e6_11ea_ac6f_dc7196bf12d2level0_row2\" class=\"row_heading level0 row2\" >Other / Non-Disclosed</th>\n",
       "                        <td id=\"T_bebfbd0c_c7e6_11ea_ac6f_dc7196bf12d2row2_col0\" class=\"data row2 col0\" >11</td>\n",
       "                        <td id=\"T_bebfbd0c_c7e6_11ea_ac6f_dc7196bf12d2row2_col1\" class=\"data row2 col1\" >1.91%</td>\n",
       "            </tr>\n",
       "    </tbody></table>"
      ],
      "text/plain": [
       "<pandas.io.formats.style.Styler at 0x1cd536c9748>"
      ]
     },
     "execution_count": 4,
     "metadata": {},
     "output_type": "execute_result"
    }
   ],
   "source": [
    "# Group purchase data by \"Gender\"\n",
    "gender = purchase_data_df.groupby(\"Gender\")\n",
    "\n",
    "# Count the total number of screen names (\"SN\") by gender\n",
    "total_gender = gender.nunique()[\"SN\"]\n",
    "\n",
    "# Percentage of players \n",
    "pct_players = total_gender / total_players * 100\n",
    "\n",
    "# Create a summary data frame and format it\n",
    "gender_df = pd.DataFrame({\"Total Count\": total_gender, \"Percentage of Players\": pct_players})\n",
    "\n",
    "gender_df.index.name = None\n",
    "\n",
    "gender_df.sort_values([\"Total Count\"], ascending = False).style.format({\"Percentage of Players\":\"{:.2f}%\"})"
   ]
  },
  {
   "cell_type": "markdown",
   "metadata": {},
   "source": [
    "\n",
    "## Purchasing Analysis (Gender)"
   ]
  },
  {
   "cell_type": "markdown",
   "metadata": {},
   "source": [
    "* Run basic calculations to obtain purchase count, avg. purchase price, avg. purchase total per person etc. by gender\n",
    "\n",
    "\n",
    "\n",
    "\n",
    "* Create a summary data frame to hold the results\n",
    "\n",
    "\n",
    "* Optional: give the displayed data cleaner formatting\n",
    "\n",
    "\n",
    "* Display the summary data frame"
   ]
  },
  {
   "cell_type": "code",
   "execution_count": 5,
   "metadata": {},
   "outputs": [
    {
     "data": {
      "text/html": [
       "<style  type=\"text/css\" >\n",
       "</style><table id=\"T_bec20558_c7e6_11ea_976f_dc7196bf12d2\" ><thead>    <tr>        <th class=\"blank level0\" ></th>        <th class=\"col_heading level0 col0\" >Purchase Count</th>        <th class=\"col_heading level0 col1\" >Average Purchase Price</th>        <th class=\"col_heading level0 col2\" >Total Purchase Value</th>        <th class=\"col_heading level0 col3\" >Average Total Purchase Per Person</th>    </tr>    <tr>        <th class=\"index_name level0\" >Gender</th>        <th class=\"blank\" ></th>        <th class=\"blank\" ></th>        <th class=\"blank\" ></th>        <th class=\"blank\" ></th>    </tr></thead><tbody>\n",
       "                <tr>\n",
       "                        <th id=\"T_bec20558_c7e6_11ea_976f_dc7196bf12d2level0_row0\" class=\"row_heading level0 row0\" >Female</th>\n",
       "                        <td id=\"T_bec20558_c7e6_11ea_976f_dc7196bf12d2row0_col0\" class=\"data row0 col0\" >113</td>\n",
       "                        <td id=\"T_bec20558_c7e6_11ea_976f_dc7196bf12d2row0_col1\" class=\"data row0 col1\" >$3.20</td>\n",
       "                        <td id=\"T_bec20558_c7e6_11ea_976f_dc7196bf12d2row0_col2\" class=\"data row0 col2\" >$361.94</td>\n",
       "                        <td id=\"T_bec20558_c7e6_11ea_976f_dc7196bf12d2row0_col3\" class=\"data row0 col3\" >$4.47</td>\n",
       "            </tr>\n",
       "            <tr>\n",
       "                        <th id=\"T_bec20558_c7e6_11ea_976f_dc7196bf12d2level0_row1\" class=\"row_heading level0 row1\" >Male</th>\n",
       "                        <td id=\"T_bec20558_c7e6_11ea_976f_dc7196bf12d2row1_col0\" class=\"data row1 col0\" >652</td>\n",
       "                        <td id=\"T_bec20558_c7e6_11ea_976f_dc7196bf12d2row1_col1\" class=\"data row1 col1\" >$3.02</td>\n",
       "                        <td id=\"T_bec20558_c7e6_11ea_976f_dc7196bf12d2row1_col2\" class=\"data row1 col2\" >$1,967.64</td>\n",
       "                        <td id=\"T_bec20558_c7e6_11ea_976f_dc7196bf12d2row1_col3\" class=\"data row1 col3\" >$4.07</td>\n",
       "            </tr>\n",
       "            <tr>\n",
       "                        <th id=\"T_bec20558_c7e6_11ea_976f_dc7196bf12d2level0_row2\" class=\"row_heading level0 row2\" >Other / Non-Disclosed</th>\n",
       "                        <td id=\"T_bec20558_c7e6_11ea_976f_dc7196bf12d2row2_col0\" class=\"data row2 col0\" >15</td>\n",
       "                        <td id=\"T_bec20558_c7e6_11ea_976f_dc7196bf12d2row2_col1\" class=\"data row2 col1\" >$3.35</td>\n",
       "                        <td id=\"T_bec20558_c7e6_11ea_976f_dc7196bf12d2row2_col2\" class=\"data row2 col2\" >$50.19</td>\n",
       "                        <td id=\"T_bec20558_c7e6_11ea_976f_dc7196bf12d2row2_col3\" class=\"data row2 col3\" >$4.56</td>\n",
       "            </tr>\n",
       "    </tbody></table>"
      ],
      "text/plain": [
       "<pandas.io.formats.style.Styler at 0x1cd536cff88>"
      ]
     },
     "execution_count": 5,
     "metadata": {},
     "output_type": "execute_result"
    }
   ],
   "source": [
    "# Calculate purchase count by gender\n",
    "purchase_count_gender = gender[\"Purchase ID\"].count()\n",
    "\n",
    "# Calculate average purchase price by gender\n",
    "avg_pp_gender = gender[\"Price\"].mean()\n",
    "\n",
    "# Calculate total purchase value by gender\n",
    "tot_pv_gender = gender[\"Price\"].sum()\n",
    "\n",
    "# Calculate average purchase total per person by gender\n",
    "avg_pt_gender = tot_pv_gender/total_gender\n",
    "\n",
    "# Create a summary data frame and format it\n",
    "purchase_analysis_gender = pd.DataFrame({\"Purchase Count\": purchase_count_gender,\n",
    "                                 \"Average Purchase Price\": avg_pp_gender,\n",
    "                                 \"Total Purchase Value\": tot_pv_gender,\n",
    "                                 \"Average Total Purchase Per Person\": avg_pt_gender})\n",
    "\n",
    "purchase_analysis_gender.index.name = \"Gender\"\n",
    "\n",
    "purchase_analysis_gender.style.format({\"Average Purchase Price\":'${:,.2f}',\n",
    "                                  \"Total Purchase Value\":'${:,.2f}',\n",
    "                                  \"Average Total Purchase Per Person\":'${:,.2f}'})\n"
   ]
  },
  {
   "cell_type": "markdown",
   "metadata": {},
   "source": [
    "## Age Demographics"
   ]
  },
  {
   "cell_type": "markdown",
   "metadata": {},
   "source": [
    "* Establish bins for ages\n",
    "\n",
    "\n",
    "* Categorize the existing players using the age bins. Hint: use pd.cut()\n",
    "\n",
    "\n",
    "* Calculate the numbers and percentages by age group\n",
    "\n",
    "\n",
    "* Create a summary data frame to hold the results\n",
    "\n",
    "\n",
    "* Optional: round the percentage column to two decimal points\n",
    "\n",
    "\n",
    "* Display Age Demographics Table\n"
   ]
  },
  {
   "cell_type": "code",
   "execution_count": 6,
   "metadata": {},
   "outputs": [
    {
     "data": {
      "text/html": [
       "<style  type=\"text/css\" >\n",
       "</style><table id=\"T_bec66dee_c7e6_11ea_ac4e_dc7196bf12d2\" ><thead>    <tr>        <th class=\"blank level0\" ></th>        <th class=\"col_heading level0 col0\" >Total Count</th>        <th class=\"col_heading level0 col1\" >Percentage of Players</th>    </tr></thead><tbody>\n",
       "                <tr>\n",
       "                        <th id=\"T_bec66dee_c7e6_11ea_ac4e_dc7196bf12d2level0_row0\" class=\"row_heading level0 row0\" ><10</th>\n",
       "                        <td id=\"T_bec66dee_c7e6_11ea_ac4e_dc7196bf12d2row0_col0\" class=\"data row0 col0\" >17</td>\n",
       "                        <td id=\"T_bec66dee_c7e6_11ea_ac4e_dc7196bf12d2row0_col1\" class=\"data row0 col1\" >2.95%</td>\n",
       "            </tr>\n",
       "            <tr>\n",
       "                        <th id=\"T_bec66dee_c7e6_11ea_ac4e_dc7196bf12d2level0_row1\" class=\"row_heading level0 row1\" >10-14</th>\n",
       "                        <td id=\"T_bec66dee_c7e6_11ea_ac4e_dc7196bf12d2row1_col0\" class=\"data row1 col0\" >22</td>\n",
       "                        <td id=\"T_bec66dee_c7e6_11ea_ac4e_dc7196bf12d2row1_col1\" class=\"data row1 col1\" >3.82%</td>\n",
       "            </tr>\n",
       "            <tr>\n",
       "                        <th id=\"T_bec66dee_c7e6_11ea_ac4e_dc7196bf12d2level0_row2\" class=\"row_heading level0 row2\" >15-19</th>\n",
       "                        <td id=\"T_bec66dee_c7e6_11ea_ac4e_dc7196bf12d2row2_col0\" class=\"data row2 col0\" >107</td>\n",
       "                        <td id=\"T_bec66dee_c7e6_11ea_ac4e_dc7196bf12d2row2_col1\" class=\"data row2 col1\" >18.58%</td>\n",
       "            </tr>\n",
       "            <tr>\n",
       "                        <th id=\"T_bec66dee_c7e6_11ea_ac4e_dc7196bf12d2level0_row3\" class=\"row_heading level0 row3\" >20-24</th>\n",
       "                        <td id=\"T_bec66dee_c7e6_11ea_ac4e_dc7196bf12d2row3_col0\" class=\"data row3 col0\" >258</td>\n",
       "                        <td id=\"T_bec66dee_c7e6_11ea_ac4e_dc7196bf12d2row3_col1\" class=\"data row3 col1\" >44.79%</td>\n",
       "            </tr>\n",
       "            <tr>\n",
       "                        <th id=\"T_bec66dee_c7e6_11ea_ac4e_dc7196bf12d2level0_row4\" class=\"row_heading level0 row4\" >25-29</th>\n",
       "                        <td id=\"T_bec66dee_c7e6_11ea_ac4e_dc7196bf12d2row4_col0\" class=\"data row4 col0\" >77</td>\n",
       "                        <td id=\"T_bec66dee_c7e6_11ea_ac4e_dc7196bf12d2row4_col1\" class=\"data row4 col1\" >13.37%</td>\n",
       "            </tr>\n",
       "            <tr>\n",
       "                        <th id=\"T_bec66dee_c7e6_11ea_ac4e_dc7196bf12d2level0_row5\" class=\"row_heading level0 row5\" >30-34</th>\n",
       "                        <td id=\"T_bec66dee_c7e6_11ea_ac4e_dc7196bf12d2row5_col0\" class=\"data row5 col0\" >52</td>\n",
       "                        <td id=\"T_bec66dee_c7e6_11ea_ac4e_dc7196bf12d2row5_col1\" class=\"data row5 col1\" >9.03%</td>\n",
       "            </tr>\n",
       "            <tr>\n",
       "                        <th id=\"T_bec66dee_c7e6_11ea_ac4e_dc7196bf12d2level0_row6\" class=\"row_heading level0 row6\" >35-39</th>\n",
       "                        <td id=\"T_bec66dee_c7e6_11ea_ac4e_dc7196bf12d2row6_col0\" class=\"data row6 col0\" >31</td>\n",
       "                        <td id=\"T_bec66dee_c7e6_11ea_ac4e_dc7196bf12d2row6_col1\" class=\"data row6 col1\" >5.38%</td>\n",
       "            </tr>\n",
       "            <tr>\n",
       "                        <th id=\"T_bec66dee_c7e6_11ea_ac4e_dc7196bf12d2level0_row7\" class=\"row_heading level0 row7\" >40+</th>\n",
       "                        <td id=\"T_bec66dee_c7e6_11ea_ac4e_dc7196bf12d2row7_col0\" class=\"data row7 col0\" >12</td>\n",
       "                        <td id=\"T_bec66dee_c7e6_11ea_ac4e_dc7196bf12d2row7_col1\" class=\"data row7 col1\" >2.08%</td>\n",
       "            </tr>\n",
       "    </tbody></table>"
      ],
      "text/plain": [
       "<pandas.io.formats.style.Styler at 0x1cd53670088>"
      ]
     },
     "execution_count": 6,
     "metadata": {},
     "output_type": "execute_result"
    }
   ],
   "source": [
    "# Create bins for ages\n",
    "age_bins = [0, 9.90, 14.90, 19.90, 24.90, 29.90, 34.90, 39.90, 99999]\n",
    "\n",
    "# Create the names for the bins\n",
    "age_groups = [\"<10\", \"10-14\",\"15-19\",\"20-24\",\"25-29\",\"30-34\",\"35-39\", \"40+\"]\n",
    "\n",
    "# Categorize existing players using the age bins\n",
    "purchase_data_df[\"Age Groups\"] = pd.cut(purchase_data_df[\"Age\"], age_bins, labels=age_groups, include_lowest=True)\n",
    "\n",
    "# Calculate the numbers and percentages by age group\n",
    "age = purchase_data_df.groupby(\"Age Groups\")\n",
    "\n",
    "total_age = age.nunique()[\"SN\"]\n",
    "\n",
    "pct_age = (total_age / total_players)* 100\n",
    "\n",
    "# Create a summary data frame and format it\n",
    "age_demo = pd.DataFrame({\"Total Count\": total_age,\n",
    "                        \"Percentage of Players\": pct_age})\n",
    "\n",
    "age_demo.index.name = None\n",
    "\n",
    "age_demo.style.format({\"Percentage of Players\":\"{:.2f}%\"})"
   ]
  },
  {
   "cell_type": "markdown",
   "metadata": {},
   "source": [
    "## Purchasing Analysis (Age)"
   ]
  },
  {
   "cell_type": "markdown",
   "metadata": {},
   "source": [
    "* Bin the purchase_data data frame by age\n",
    "\n",
    "\n",
    "* Run basic calculations to obtain purchase count, avg. purchase price, avg. purchase total per person etc. in the table below\n",
    "\n",
    "\n",
    "* Create a summary data frame to hold the results\n",
    "\n",
    "\n",
    "* Optional: give the displayed data cleaner formatting\n",
    "\n",
    "\n",
    "* Display the summary data frame"
   ]
  },
  {
   "cell_type": "code",
   "execution_count": 7,
   "metadata": {},
   "outputs": [
    {
     "data": {
      "text/html": [
       "<style  type=\"text/css\" >\n",
       "</style><table id=\"T_bec8ddd2_c7e6_11ea_94f9_dc7196bf12d2\" ><thead>    <tr>        <th class=\"blank level0\" ></th>        <th class=\"col_heading level0 col0\" >Purchase Count</th>        <th class=\"col_heading level0 col1\" >Average Purchase Price</th>        <th class=\"col_heading level0 col2\" >Total Purchase Value</th>        <th class=\"col_heading level0 col3\" >Average Total Purchase Per Person</th>    </tr>    <tr>        <th class=\"index_name level0\" >Age Ranges</th>        <th class=\"blank\" ></th>        <th class=\"blank\" ></th>        <th class=\"blank\" ></th>        <th class=\"blank\" ></th>    </tr></thead><tbody>\n",
       "                <tr>\n",
       "                        <th id=\"T_bec8ddd2_c7e6_11ea_94f9_dc7196bf12d2level0_row0\" class=\"row_heading level0 row0\" ><10</th>\n",
       "                        <td id=\"T_bec8ddd2_c7e6_11ea_94f9_dc7196bf12d2row0_col0\" class=\"data row0 col0\" >23</td>\n",
       "                        <td id=\"T_bec8ddd2_c7e6_11ea_94f9_dc7196bf12d2row0_col1\" class=\"data row0 col1\" >$3.35</td>\n",
       "                        <td id=\"T_bec8ddd2_c7e6_11ea_94f9_dc7196bf12d2row0_col2\" class=\"data row0 col2\" >$77.13</td>\n",
       "                        <td id=\"T_bec8ddd2_c7e6_11ea_94f9_dc7196bf12d2row0_col3\" class=\"data row0 col3\" >$4.54</td>\n",
       "            </tr>\n",
       "            <tr>\n",
       "                        <th id=\"T_bec8ddd2_c7e6_11ea_94f9_dc7196bf12d2level0_row1\" class=\"row_heading level0 row1\" >10-14</th>\n",
       "                        <td id=\"T_bec8ddd2_c7e6_11ea_94f9_dc7196bf12d2row1_col0\" class=\"data row1 col0\" >28</td>\n",
       "                        <td id=\"T_bec8ddd2_c7e6_11ea_94f9_dc7196bf12d2row1_col1\" class=\"data row1 col1\" >$2.96</td>\n",
       "                        <td id=\"T_bec8ddd2_c7e6_11ea_94f9_dc7196bf12d2row1_col2\" class=\"data row1 col2\" >$82.78</td>\n",
       "                        <td id=\"T_bec8ddd2_c7e6_11ea_94f9_dc7196bf12d2row1_col3\" class=\"data row1 col3\" >$3.76</td>\n",
       "            </tr>\n",
       "            <tr>\n",
       "                        <th id=\"T_bec8ddd2_c7e6_11ea_94f9_dc7196bf12d2level0_row2\" class=\"row_heading level0 row2\" >15-19</th>\n",
       "                        <td id=\"T_bec8ddd2_c7e6_11ea_94f9_dc7196bf12d2row2_col0\" class=\"data row2 col0\" >136</td>\n",
       "                        <td id=\"T_bec8ddd2_c7e6_11ea_94f9_dc7196bf12d2row2_col1\" class=\"data row2 col1\" >$3.04</td>\n",
       "                        <td id=\"T_bec8ddd2_c7e6_11ea_94f9_dc7196bf12d2row2_col2\" class=\"data row2 col2\" >$412.89</td>\n",
       "                        <td id=\"T_bec8ddd2_c7e6_11ea_94f9_dc7196bf12d2row2_col3\" class=\"data row2 col3\" >$3.86</td>\n",
       "            </tr>\n",
       "            <tr>\n",
       "                        <th id=\"T_bec8ddd2_c7e6_11ea_94f9_dc7196bf12d2level0_row3\" class=\"row_heading level0 row3\" >20-24</th>\n",
       "                        <td id=\"T_bec8ddd2_c7e6_11ea_94f9_dc7196bf12d2row3_col0\" class=\"data row3 col0\" >365</td>\n",
       "                        <td id=\"T_bec8ddd2_c7e6_11ea_94f9_dc7196bf12d2row3_col1\" class=\"data row3 col1\" >$3.05</td>\n",
       "                        <td id=\"T_bec8ddd2_c7e6_11ea_94f9_dc7196bf12d2row3_col2\" class=\"data row3 col2\" >$1,114.06</td>\n",
       "                        <td id=\"T_bec8ddd2_c7e6_11ea_94f9_dc7196bf12d2row3_col3\" class=\"data row3 col3\" >$4.32</td>\n",
       "            </tr>\n",
       "            <tr>\n",
       "                        <th id=\"T_bec8ddd2_c7e6_11ea_94f9_dc7196bf12d2level0_row4\" class=\"row_heading level0 row4\" >25-29</th>\n",
       "                        <td id=\"T_bec8ddd2_c7e6_11ea_94f9_dc7196bf12d2row4_col0\" class=\"data row4 col0\" >101</td>\n",
       "                        <td id=\"T_bec8ddd2_c7e6_11ea_94f9_dc7196bf12d2row4_col1\" class=\"data row4 col1\" >$2.90</td>\n",
       "                        <td id=\"T_bec8ddd2_c7e6_11ea_94f9_dc7196bf12d2row4_col2\" class=\"data row4 col2\" >$293.00</td>\n",
       "                        <td id=\"T_bec8ddd2_c7e6_11ea_94f9_dc7196bf12d2row4_col3\" class=\"data row4 col3\" >$3.81</td>\n",
       "            </tr>\n",
       "            <tr>\n",
       "                        <th id=\"T_bec8ddd2_c7e6_11ea_94f9_dc7196bf12d2level0_row5\" class=\"row_heading level0 row5\" >30-34</th>\n",
       "                        <td id=\"T_bec8ddd2_c7e6_11ea_94f9_dc7196bf12d2row5_col0\" class=\"data row5 col0\" >73</td>\n",
       "                        <td id=\"T_bec8ddd2_c7e6_11ea_94f9_dc7196bf12d2row5_col1\" class=\"data row5 col1\" >$2.93</td>\n",
       "                        <td id=\"T_bec8ddd2_c7e6_11ea_94f9_dc7196bf12d2row5_col2\" class=\"data row5 col2\" >$214.00</td>\n",
       "                        <td id=\"T_bec8ddd2_c7e6_11ea_94f9_dc7196bf12d2row5_col3\" class=\"data row5 col3\" >$4.12</td>\n",
       "            </tr>\n",
       "            <tr>\n",
       "                        <th id=\"T_bec8ddd2_c7e6_11ea_94f9_dc7196bf12d2level0_row6\" class=\"row_heading level0 row6\" >35-39</th>\n",
       "                        <td id=\"T_bec8ddd2_c7e6_11ea_94f9_dc7196bf12d2row6_col0\" class=\"data row6 col0\" >41</td>\n",
       "                        <td id=\"T_bec8ddd2_c7e6_11ea_94f9_dc7196bf12d2row6_col1\" class=\"data row6 col1\" >$3.60</td>\n",
       "                        <td id=\"T_bec8ddd2_c7e6_11ea_94f9_dc7196bf12d2row6_col2\" class=\"data row6 col2\" >$147.67</td>\n",
       "                        <td id=\"T_bec8ddd2_c7e6_11ea_94f9_dc7196bf12d2row6_col3\" class=\"data row6 col3\" >$4.76</td>\n",
       "            </tr>\n",
       "            <tr>\n",
       "                        <th id=\"T_bec8ddd2_c7e6_11ea_94f9_dc7196bf12d2level0_row7\" class=\"row_heading level0 row7\" >40+</th>\n",
       "                        <td id=\"T_bec8ddd2_c7e6_11ea_94f9_dc7196bf12d2row7_col0\" class=\"data row7 col0\" >13</td>\n",
       "                        <td id=\"T_bec8ddd2_c7e6_11ea_94f9_dc7196bf12d2row7_col1\" class=\"data row7 col1\" >$2.94</td>\n",
       "                        <td id=\"T_bec8ddd2_c7e6_11ea_94f9_dc7196bf12d2row7_col2\" class=\"data row7 col2\" >$38.24</td>\n",
       "                        <td id=\"T_bec8ddd2_c7e6_11ea_94f9_dc7196bf12d2row7_col3\" class=\"data row7 col3\" >$3.19</td>\n",
       "            </tr>\n",
       "    </tbody></table>"
      ],
      "text/plain": [
       "<pandas.io.formats.style.Styler at 0x1cd53543a88>"
      ]
     },
     "execution_count": 7,
     "metadata": {},
     "output_type": "execute_result"
    }
   ],
   "source": [
    "# Calculate purchase count by age\n",
    "purchase_count_age = age[\"Purchase ID\"].count()\n",
    "\n",
    "# Calculate average purchase price by age\n",
    "avg_pp_age = age[\"Price\"].mean()\n",
    "\n",
    "# Calculate total purchase value by age\n",
    "tot_pv_age = age[\"Price\"].sum()\n",
    "\n",
    "# Calculate average total purchase per person by age\n",
    "avg_pt_age = tot_pv_age/total_age\n",
    "\n",
    "# Create summary data frame with purchasing analysis data (age)\n",
    "purchase_analysis_age = pd.DataFrame({\"Purchase Count\": purchase_count_age,\n",
    "                                 \"Average Purchase Price\": avg_pp_age,\n",
    "                                 \"Total Purchase Value\": tot_pv_age,\n",
    "                                 \"Average Total Purchase Per Person\": avg_pt_age})\n",
    "\n",
    "purchase_analysis_age.index.name = \"Age Ranges\"\n",
    "\n",
    "purchase_analysis_age.style.format({\"Average Purchase Price\":'${:,.2f}',\n",
    "                                  \"Total Purchase Value\":'${:,.2f}',\n",
    "                                  \"Average Total Purchase Per Person\":'${:,.2f}'})"
   ]
  },
  {
   "cell_type": "markdown",
   "metadata": {},
   "source": [
    "## Top Spenders"
   ]
  },
  {
   "cell_type": "markdown",
   "metadata": {},
   "source": [
    "* Run basic calculations to obtain the results in the table below\n",
    "\n",
    "\n",
    "* Create a summary data frame to hold the results\n",
    "\n",
    "\n",
    "* Sort the total purchase value column in descending order\n",
    "\n",
    "\n",
    "* Optional: give the displayed data cleaner formatting\n",
    "\n",
    "\n",
    "* Display a preview of the summary data frame\n",
    "\n"
   ]
  },
  {
   "cell_type": "code",
   "execution_count": 8,
   "metadata": {},
   "outputs": [
    {
     "data": {
      "text/html": [
       "<style  type=\"text/css\" >\n",
       "</style><table id=\"T_becc5d54_c7e6_11ea_8f81_dc7196bf12d2\" ><thead>    <tr>        <th class=\"blank level0\" ></th>        <th class=\"col_heading level0 col0\" >Purchase Count</th>        <th class=\"col_heading level0 col1\" >Average Purchase Price</th>        <th class=\"col_heading level0 col2\" >Total Purchase Value</th>    </tr>    <tr>        <th class=\"index_name level0\" >SN</th>        <th class=\"blank\" ></th>        <th class=\"blank\" ></th>        <th class=\"blank\" ></th>    </tr></thead><tbody>\n",
       "                <tr>\n",
       "                        <th id=\"T_becc5d54_c7e6_11ea_8f81_dc7196bf12d2level0_row0\" class=\"row_heading level0 row0\" >Lisosia93</th>\n",
       "                        <td id=\"T_becc5d54_c7e6_11ea_8f81_dc7196bf12d2row0_col0\" class=\"data row0 col0\" >5</td>\n",
       "                        <td id=\"T_becc5d54_c7e6_11ea_8f81_dc7196bf12d2row0_col1\" class=\"data row0 col1\" >$3.79</td>\n",
       "                        <td id=\"T_becc5d54_c7e6_11ea_8f81_dc7196bf12d2row0_col2\" class=\"data row0 col2\" >$18.96</td>\n",
       "            </tr>\n",
       "            <tr>\n",
       "                        <th id=\"T_becc5d54_c7e6_11ea_8f81_dc7196bf12d2level0_row1\" class=\"row_heading level0 row1\" >Idastidru52</th>\n",
       "                        <td id=\"T_becc5d54_c7e6_11ea_8f81_dc7196bf12d2row1_col0\" class=\"data row1 col0\" >4</td>\n",
       "                        <td id=\"T_becc5d54_c7e6_11ea_8f81_dc7196bf12d2row1_col1\" class=\"data row1 col1\" >$3.86</td>\n",
       "                        <td id=\"T_becc5d54_c7e6_11ea_8f81_dc7196bf12d2row1_col2\" class=\"data row1 col2\" >$15.45</td>\n",
       "            </tr>\n",
       "            <tr>\n",
       "                        <th id=\"T_becc5d54_c7e6_11ea_8f81_dc7196bf12d2level0_row2\" class=\"row_heading level0 row2\" >Chamjask73</th>\n",
       "                        <td id=\"T_becc5d54_c7e6_11ea_8f81_dc7196bf12d2row2_col0\" class=\"data row2 col0\" >3</td>\n",
       "                        <td id=\"T_becc5d54_c7e6_11ea_8f81_dc7196bf12d2row2_col1\" class=\"data row2 col1\" >$4.61</td>\n",
       "                        <td id=\"T_becc5d54_c7e6_11ea_8f81_dc7196bf12d2row2_col2\" class=\"data row2 col2\" >$13.83</td>\n",
       "            </tr>\n",
       "            <tr>\n",
       "                        <th id=\"T_becc5d54_c7e6_11ea_8f81_dc7196bf12d2level0_row3\" class=\"row_heading level0 row3\" >Iral74</th>\n",
       "                        <td id=\"T_becc5d54_c7e6_11ea_8f81_dc7196bf12d2row3_col0\" class=\"data row3 col0\" >4</td>\n",
       "                        <td id=\"T_becc5d54_c7e6_11ea_8f81_dc7196bf12d2row3_col1\" class=\"data row3 col1\" >$3.40</td>\n",
       "                        <td id=\"T_becc5d54_c7e6_11ea_8f81_dc7196bf12d2row3_col2\" class=\"data row3 col2\" >$13.62</td>\n",
       "            </tr>\n",
       "            <tr>\n",
       "                        <th id=\"T_becc5d54_c7e6_11ea_8f81_dc7196bf12d2level0_row4\" class=\"row_heading level0 row4\" >Iskadarya95</th>\n",
       "                        <td id=\"T_becc5d54_c7e6_11ea_8f81_dc7196bf12d2row4_col0\" class=\"data row4 col0\" >3</td>\n",
       "                        <td id=\"T_becc5d54_c7e6_11ea_8f81_dc7196bf12d2row4_col1\" class=\"data row4 col1\" >$4.37</td>\n",
       "                        <td id=\"T_becc5d54_c7e6_11ea_8f81_dc7196bf12d2row4_col2\" class=\"data row4 col2\" >$13.10</td>\n",
       "            </tr>\n",
       "    </tbody></table>"
      ],
      "text/plain": [
       "<pandas.io.formats.style.Styler at 0x1cd53670b08>"
      ]
     },
     "execution_count": 8,
     "metadata": {},
     "output_type": "execute_result"
    }
   ],
   "source": [
    "# Group purchase data by \"SN\"\n",
    "spenders = purchase_data_df.groupby(\"SN\")\n",
    "\n",
    "# Calculate purchase count by spenders\n",
    "purchase_count_spenders = spenders[\"Purchase ID\"].count()\n",
    "\n",
    "# Calculate average purchase price by spenders\n",
    "avg_pp_spenders = spenders[\"Price\"].mean()\n",
    "\n",
    "# Calculate total purchase value by spenders\n",
    "tot_pv_spenders = spenders[\"Price\"].sum()\n",
    "\n",
    "# Create a summary data frame for the values\n",
    "purchase_analysis_spenders = pd.DataFrame({\"Purchase Count\": purchase_count_spenders,\n",
    "                                 \"Average Purchase Price\": avg_pp_spenders,\n",
    "                                 \"Total Purchase Value\": tot_pv_spenders})\n",
    "\n",
    "# Sort in descending order\n",
    "formatted_spenders = purchase_analysis_spenders.sort_values([\"Total Purchase Value\"], ascending=False).head()\n",
    "\n",
    "# Format with currency style\n",
    "formatted_spenders.style.format({\"Average Purchase Total\":\"${:,.2f}\",\n",
    "                                 \"Average Purchase Price\":\"${:,.2f}\", \n",
    "                                 \"Total Purchase Value\":\"${:,.2f}\"})"
   ]
  },
  {
   "cell_type": "markdown",
   "metadata": {},
   "source": [
    "## Most Popular Items"
   ]
  },
  {
   "cell_type": "markdown",
   "metadata": {},
   "source": [
    "* Retrieve the Item ID, Item Name, and Item Price columns\n",
    "\n",
    "\n",
    "* Group by Item ID and Item Name. Perform calculations to obtain purchase count, item price, and total purchase value\n",
    "\n",
    "\n",
    "* Create a summary data frame to hold the results\n",
    "\n",
    "\n",
    "* Sort the purchase count column in descending order\n",
    "\n",
    "\n",
    "* Optional: give the displayed data cleaner formatting\n",
    "\n",
    "\n",
    "* Display a preview of the summary data frame\n",
    "\n"
   ]
  },
  {
   "cell_type": "code",
   "execution_count": 9,
   "metadata": {},
   "outputs": [
    {
     "data": {
      "text/html": [
       "<style  type=\"text/css\" >\n",
       "</style><table id=\"T_bed02b58_c7e6_11ea_97cd_dc7196bf12d2\" ><thead>    <tr>        <th class=\"blank\" ></th>        <th class=\"blank level0\" ></th>        <th class=\"col_heading level0 col0\" >Purchase Count</th>        <th class=\"col_heading level0 col1\" >Item Price</th>        <th class=\"col_heading level0 col2\" >Total Purchase Value</th>    </tr>    <tr>        <th class=\"index_name level0\" >Item ID</th>        <th class=\"index_name level1\" >Item Name</th>        <th class=\"blank\" ></th>        <th class=\"blank\" ></th>        <th class=\"blank\" ></th>    </tr></thead><tbody>\n",
       "                <tr>\n",
       "                        <th id=\"T_bed02b58_c7e6_11ea_97cd_dc7196bf12d2level0_row0\" class=\"row_heading level0 row0\" >92</th>\n",
       "                        <th id=\"T_bed02b58_c7e6_11ea_97cd_dc7196bf12d2level1_row0\" class=\"row_heading level1 row0\" >Final Critic</th>\n",
       "                        <td id=\"T_bed02b58_c7e6_11ea_97cd_dc7196bf12d2row0_col0\" class=\"data row0 col0\" >13</td>\n",
       "                        <td id=\"T_bed02b58_c7e6_11ea_97cd_dc7196bf12d2row0_col1\" class=\"data row0 col1\" >$4.61</td>\n",
       "                        <td id=\"T_bed02b58_c7e6_11ea_97cd_dc7196bf12d2row0_col2\" class=\"data row0 col2\" >$59.99</td>\n",
       "            </tr>\n",
       "            <tr>\n",
       "                        <th id=\"T_bed02b58_c7e6_11ea_97cd_dc7196bf12d2level0_row1\" class=\"row_heading level0 row1\" >178</th>\n",
       "                        <th id=\"T_bed02b58_c7e6_11ea_97cd_dc7196bf12d2level1_row1\" class=\"row_heading level1 row1\" >Oathbreaker, Last Hope of the Breaking Storm</th>\n",
       "                        <td id=\"T_bed02b58_c7e6_11ea_97cd_dc7196bf12d2row1_col0\" class=\"data row1 col0\" >12</td>\n",
       "                        <td id=\"T_bed02b58_c7e6_11ea_97cd_dc7196bf12d2row1_col1\" class=\"data row1 col1\" >$4.23</td>\n",
       "                        <td id=\"T_bed02b58_c7e6_11ea_97cd_dc7196bf12d2row1_col2\" class=\"data row1 col2\" >$50.76</td>\n",
       "            </tr>\n",
       "            <tr>\n",
       "                        <th id=\"T_bed02b58_c7e6_11ea_97cd_dc7196bf12d2level0_row2\" class=\"row_heading level0 row2\" >145</th>\n",
       "                        <th id=\"T_bed02b58_c7e6_11ea_97cd_dc7196bf12d2level1_row2\" class=\"row_heading level1 row2\" >Fiery Glass Crusader</th>\n",
       "                        <td id=\"T_bed02b58_c7e6_11ea_97cd_dc7196bf12d2row2_col0\" class=\"data row2 col0\" >9</td>\n",
       "                        <td id=\"T_bed02b58_c7e6_11ea_97cd_dc7196bf12d2row2_col1\" class=\"data row2 col1\" >$4.58</td>\n",
       "                        <td id=\"T_bed02b58_c7e6_11ea_97cd_dc7196bf12d2row2_col2\" class=\"data row2 col2\" >$41.22</td>\n",
       "            </tr>\n",
       "            <tr>\n",
       "                        <th id=\"T_bed02b58_c7e6_11ea_97cd_dc7196bf12d2level0_row3\" class=\"row_heading level0 row3\" >132</th>\n",
       "                        <th id=\"T_bed02b58_c7e6_11ea_97cd_dc7196bf12d2level1_row3\" class=\"row_heading level1 row3\" >Persuasion</th>\n",
       "                        <td id=\"T_bed02b58_c7e6_11ea_97cd_dc7196bf12d2row3_col0\" class=\"data row3 col0\" >9</td>\n",
       "                        <td id=\"T_bed02b58_c7e6_11ea_97cd_dc7196bf12d2row3_col1\" class=\"data row3 col1\" >$3.22</td>\n",
       "                        <td id=\"T_bed02b58_c7e6_11ea_97cd_dc7196bf12d2row3_col2\" class=\"data row3 col2\" >$28.99</td>\n",
       "            </tr>\n",
       "            <tr>\n",
       "                        <th id=\"T_bed02b58_c7e6_11ea_97cd_dc7196bf12d2level0_row4\" class=\"row_heading level0 row4\" >108</th>\n",
       "                        <th id=\"T_bed02b58_c7e6_11ea_97cd_dc7196bf12d2level1_row4\" class=\"row_heading level1 row4\" >Extraction, Quickblade Of Trembling Hands</th>\n",
       "                        <td id=\"T_bed02b58_c7e6_11ea_97cd_dc7196bf12d2row4_col0\" class=\"data row4 col0\" >9</td>\n",
       "                        <td id=\"T_bed02b58_c7e6_11ea_97cd_dc7196bf12d2row4_col1\" class=\"data row4 col1\" >$3.53</td>\n",
       "                        <td id=\"T_bed02b58_c7e6_11ea_97cd_dc7196bf12d2row4_col2\" class=\"data row4 col2\" >$31.77</td>\n",
       "            </tr>\n",
       "    </tbody></table>"
      ],
      "text/plain": [
       "<pandas.io.formats.style.Styler at 0x1cd5069aa08>"
      ]
     },
     "execution_count": 9,
     "metadata": {},
     "output_type": "execute_result"
    }
   ],
   "source": [
    "# Create a new data frame with item info\n",
    "items_df = purchase_data_df[[\"Item ID\", \"Item Name\", \"Price\"]]\n",
    "\n",
    "# Group the item data by item id and item name \n",
    "item_stats = items_df.groupby([\"Item ID\",\"Item Name\"])\n",
    "\n",
    "# Count the number of times an item has been purchased \n",
    "purchase_count_item = item_stats[\"Price\"].count()\n",
    "\n",
    "# Calcualte the purchase value per item \n",
    "pv_item = (item_stats[\"Price\"].sum()) \n",
    "\n",
    "# Find individual item price\n",
    "item_price = pv_item/purchase_count_item\n",
    "\n",
    "# Create data frame with obtained values\n",
    "pop_items = pd.DataFrame({\"Purchase Count\": purchase_count_item, \n",
    "                                   \"Item Price\": item_price,\n",
    "                                   \"Total Purchase Value\":pv_item})\n",
    "\n",
    "# Sort in descending order to obtain top spender names and provide top item names\n",
    "popular_formatted = pop_items.sort_values([\"Purchase Count\"], ascending=False).head()\n",
    "\n",
    "# Format with currency style\n",
    "popular_formatted.style.format({\"Item Price\":\"${:,.2f}\",\n",
    "                                \"Total Purchase Value\":\"${:,.2f}\"})"
   ]
  },
  {
   "cell_type": "markdown",
   "metadata": {},
   "source": [
    "## Most Profitable Items"
   ]
  },
  {
   "cell_type": "markdown",
   "metadata": {},
   "source": [
    "* Sort the above table by total purchase value in descending order\n",
    "\n",
    "\n",
    "* Optional: give the displayed data cleaner formatting\n",
    "\n",
    "\n",
    "* Display a preview of the data frame\n",
    "\n"
   ]
  },
  {
   "cell_type": "code",
   "execution_count": 10,
   "metadata": {},
   "outputs": [
    {
     "data": {
      "text/html": [
       "<div>\n",
       "<style scoped>\n",
       "    .dataframe tbody tr th:only-of-type {\n",
       "        vertical-align: middle;\n",
       "    }\n",
       "\n",
       "    .dataframe tbody tr th {\n",
       "        vertical-align: top;\n",
       "    }\n",
       "\n",
       "    .dataframe thead th {\n",
       "        text-align: right;\n",
       "    }\n",
       "</style>\n",
       "<table border=\"1\" class=\"dataframe\">\n",
       "  <thead>\n",
       "    <tr style=\"text-align: right;\">\n",
       "      <th></th>\n",
       "      <th></th>\n",
       "      <th>Purchase Count</th>\n",
       "      <th>Item Price</th>\n",
       "      <th>Total Purchase Value</th>\n",
       "    </tr>\n",
       "    <tr>\n",
       "      <th>Item ID</th>\n",
       "      <th>Item Name</th>\n",
       "      <th></th>\n",
       "      <th></th>\n",
       "      <th></th>\n",
       "    </tr>\n",
       "  </thead>\n",
       "  <tbody>\n",
       "    <tr>\n",
       "      <th>92</th>\n",
       "      <th>Final Critic</th>\n",
       "      <td>13</td>\n",
       "      <td>4.614615</td>\n",
       "      <td>59.99</td>\n",
       "    </tr>\n",
       "    <tr>\n",
       "      <th>178</th>\n",
       "      <th>Oathbreaker, Last Hope of the Breaking Storm</th>\n",
       "      <td>12</td>\n",
       "      <td>4.230000</td>\n",
       "      <td>50.76</td>\n",
       "    </tr>\n",
       "    <tr>\n",
       "      <th>82</th>\n",
       "      <th>Nirvana</th>\n",
       "      <td>9</td>\n",
       "      <td>4.900000</td>\n",
       "      <td>44.10</td>\n",
       "    </tr>\n",
       "    <tr>\n",
       "      <th>145</th>\n",
       "      <th>Fiery Glass Crusader</th>\n",
       "      <td>9</td>\n",
       "      <td>4.580000</td>\n",
       "      <td>41.22</td>\n",
       "    </tr>\n",
       "    <tr>\n",
       "      <th>103</th>\n",
       "      <th>Singed Scalpel</th>\n",
       "      <td>8</td>\n",
       "      <td>4.350000</td>\n",
       "      <td>34.80</td>\n",
       "    </tr>\n",
       "  </tbody>\n",
       "</table>\n",
       "</div>"
      ],
      "text/plain": [
       "                                                      Purchase Count  \\\n",
       "Item ID Item Name                                                      \n",
       "92      Final Critic                                              13   \n",
       "178     Oathbreaker, Last Hope of the Breaking Storm              12   \n",
       "82      Nirvana                                                    9   \n",
       "145     Fiery Glass Crusader                                       9   \n",
       "103     Singed Scalpel                                             8   \n",
       "\n",
       "                                                      Item Price  \\\n",
       "Item ID Item Name                                                  \n",
       "92      Final Critic                                    4.614615   \n",
       "178     Oathbreaker, Last Hope of the Breaking Storm    4.230000   \n",
       "82      Nirvana                                         4.900000   \n",
       "145     Fiery Glass Crusader                            4.580000   \n",
       "103     Singed Scalpel                                  4.350000   \n",
       "\n",
       "                                                      Total Purchase Value  \n",
       "Item ID Item Name                                                           \n",
       "92      Final Critic                                                 59.99  \n",
       "178     Oathbreaker, Last Hope of the Breaking Storm                 50.76  \n",
       "82      Nirvana                                                      44.10  \n",
       "145     Fiery Glass Crusader                                         41.22  \n",
       "103     Singed Scalpel                                               34.80  "
      ]
     },
     "execution_count": 10,
     "metadata": {},
     "output_type": "execute_result"
    }
   ],
   "source": [
    "# Sort the total purchase value in descending order\n",
    "popular_formatted = pop_items.sort_values([\"Total Purchase Value\"], ascending=False).head()\n",
    "popular_formatted"
   ]
  }
 ],
 "metadata": {
  "anaconda-cloud": {},
  "kernel_info": {
   "name": "python3"
  },
  "kernelspec": {
   "display_name": "Python 3",
   "language": "python",
   "name": "python3"
  },
  "language_info": {
   "codemirror_mode": {
    "name": "ipython",
    "version": 3
   },
   "file_extension": ".py",
   "mimetype": "text/x-python",
   "name": "python",
   "nbconvert_exporter": "python",
   "pygments_lexer": "ipython3",
   "version": "3.7.6"
  },
  "latex_envs": {
   "LaTeX_envs_menu_present": true,
   "autoclose": false,
   "autocomplete": true,
   "bibliofile": "biblio.bib",
   "cite_by": "apalike",
   "current_citInitial": 1,
   "eqLabelWithNumbers": true,
   "eqNumInitial": 1,
   "hotkeys": {
    "equation": "Ctrl-E",
    "itemize": "Ctrl-I"
   },
   "labels_anchors": false,
   "latex_user_defs": false,
   "report_style_numbering": false,
   "user_envs_cfg": false
  },
  "nteract": {
   "version": "0.2.0"
  }
 },
 "nbformat": 4,
 "nbformat_minor": 2
}
